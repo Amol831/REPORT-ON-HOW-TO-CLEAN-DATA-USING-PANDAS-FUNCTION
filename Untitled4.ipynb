{
 "cells": [
  {
   "cell_type": "markdown",
   "id": "ed378d17",
   "metadata": {},
   "source": [
    "# REPORT ON HOW TO CLEAN DATA USING PANDAS FUNCTION"
   ]
  },
  {
   "cell_type": "markdown",
   "id": "f4e0d1fa",
   "metadata": {},
   "source": [
    "# In Python, there are several functions and methods that can be used to clean and preprocess data. Here are some examples:"
   ]
  },
  {
   "cell_type": "code",
   "execution_count": 1,
   "id": "8bbc6d9e",
   "metadata": {},
   "outputs": [],
   "source": [
    "import pandas as pd"
   ]
  },
  {
   "cell_type": "code",
   "execution_count": 2,
   "id": "56654860",
   "metadata": {},
   "outputs": [],
   "source": [
    "import numpy as np "
   ]
  },
  {
   "cell_type": "code",
   "execution_count": 3,
   "id": "c3425161",
   "metadata": {},
   "outputs": [],
   "source": [
    "# We will now import a sample raw data and perform data cleaning methods on it:"
   ]
  },
  {
   "cell_type": "code",
   "execution_count": 5,
   "id": "d049fa17",
   "metadata": {},
   "outputs": [],
   "source": [
    "df = pd.read_csv(\"D:\\\\Ed-byte\\\\python\\\\Attrition.csv\")"
   ]
  },
  {
   "cell_type": "markdown",
   "id": "92d547aa",
   "metadata": {},
   "source": [
    "# 1. Handling missing values:"
   ]
  },
  {
   "cell_type": "code",
   "execution_count": 7,
   "id": "b4a9dbe6",
   "metadata": {},
   "outputs": [],
   "source": [
    "# Let us replace missing values with the mean of the column"
   ]
  },
  {
   "cell_type": "code",
   "execution_count": 9,
   "id": "c3fb3e6e",
   "metadata": {},
   "outputs": [],
   "source": [
    "df['Age'].fillna(df['Age'].mean(), inplace=True)"
   ]
  },
  {
   "cell_type": "code",
   "execution_count": 10,
   "id": "6bbb167a",
   "metadata": {},
   "outputs": [],
   "source": [
    "# Let us now drop rows with missing values"
   ]
  },
  {
   "cell_type": "code",
   "execution_count": 11,
   "id": "95394ba7",
   "metadata": {},
   "outputs": [],
   "source": [
    "df.dropna(inplace=True)"
   ]
  },
  {
   "cell_type": "markdown",
   "id": "635a6aeb",
   "metadata": {},
   "source": [
    "# 2. Removing the duplicates:"
   ]
  },
  {
   "cell_type": "code",
   "execution_count": 12,
   "id": "d3271bd6",
   "metadata": {},
   "outputs": [],
   "source": [
    "# We will now drop the duplicate rows based on all columns:"
   ]
  },
  {
   "cell_type": "code",
   "execution_count": 13,
   "id": "ee7877f3",
   "metadata": {},
   "outputs": [],
   "source": [
    "df.drop_duplicates(inplace=True)"
   ]
  },
  {
   "cell_type": "code",
   "execution_count": 14,
   "id": "e7b6a3ba",
   "metadata": {},
   "outputs": [],
   "source": [
    "# We will now drop the duplicate rows based on specific columns:"
   ]
  },
  {
   "cell_type": "code",
   "execution_count": 15,
   "id": "b448586f",
   "metadata": {},
   "outputs": [],
   "source": [
    "df.drop_duplicates(subset=['DailyRate', 'Department'], inplace=True)"
   ]
  },
  {
   "cell_type": "markdown",
   "id": "0bdabd43",
   "metadata": {},
   "source": [
    "# 3. Normalizing data:"
   ]
  },
  {
   "cell_type": "code",
   "execution_count": 19,
   "id": "44f49639",
   "metadata": {},
   "outputs": [],
   "source": [
    "# We will now normalize the data in following way:"
   ]
  },
  {
   "cell_type": "code",
   "execution_count": 20,
   "id": "b12e19d3",
   "metadata": {},
   "outputs": [],
   "source": [
    "from sklearn.preprocessing import MinMaxScaler"
   ]
  },
  {
   "cell_type": "code",
   "execution_count": 21,
   "id": "ee525945",
   "metadata": {},
   "outputs": [],
   "source": [
    "scaler = MinMaxScaler()\n",
    "df[['DailyRate', 'DistanceFromHome']] = scaler.fit_transform(df[['DailyRate', 'DistanceFromHome']])"
   ]
  },
  {
   "cell_type": "markdown",
   "id": "6167c6be",
   "metadata": {},
   "source": [
    "# 4. Converting data types:"
   ]
  },
  {
   "cell_type": "code",
   "execution_count": 22,
   "id": "c96892b6",
   "metadata": {},
   "outputs": [],
   "source": [
    "# Let us now convert a column to numeric type:"
   ]
  },
  {
   "cell_type": "code",
   "execution_count": 24,
   "id": "5141b5e4",
   "metadata": {},
   "outputs": [],
   "source": [
    "df['DailyRate'] = pd.to_numeric(df['DailyRate'], errors='coerce')"
   ]
  },
  {
   "cell_type": "code",
   "execution_count": 28,
   "id": "38d82cb6",
   "metadata": {},
   "outputs": [],
   "source": [
    "# Note: We can also convert a column into datetime type by using the following syntax:\n",
    "# df['date_column'] = pd.to_datetime(df['date_column'])"
   ]
  },
  {
   "cell_type": "markdown",
   "id": "9a81da4f",
   "metadata": {},
   "source": [
    "# 5. Renaming columns:"
   ]
  },
  {
   "cell_type": "code",
   "execution_count": 29,
   "id": "b7257e65",
   "metadata": {},
   "outputs": [],
   "source": [
    "# We will now rename multiple column at same time using the following syntax:"
   ]
  },
  {
   "cell_type": "code",
   "execution_count": 30,
   "id": "ce3b66d9",
   "metadata": {},
   "outputs": [],
   "source": [
    "df = df.rename(columns={'BusinessTravel': 'BusinessTrips', 'EducationField': 'Stream'})"
   ]
  },
  {
   "cell_type": "code",
   "execution_count": null,
   "id": "3e366864",
   "metadata": {},
   "outputs": [],
   "source": []
  }
 ],
 "metadata": {
  "kernelspec": {
   "display_name": "Python 3 (ipykernel)",
   "language": "python",
   "name": "python3"
  },
  "language_info": {
   "codemirror_mode": {
    "name": "ipython",
    "version": 3
   },
   "file_extension": ".py",
   "mimetype": "text/x-python",
   "name": "python",
   "nbconvert_exporter": "python",
   "pygments_lexer": "ipython3",
   "version": "3.9.13"
  }
 },
 "nbformat": 4,
 "nbformat_minor": 5
}
